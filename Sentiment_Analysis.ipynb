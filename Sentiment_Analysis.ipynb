{
  "nbformat": 4,
  "nbformat_minor": 0,
  "metadata": {
    "colab": {
      "provenance": [],
      "authorship_tag": "ABX9TyPlRYuIg3b8J6pnx9kDPYw3",
      "include_colab_link": true
    },
    "kernelspec": {
      "name": "python3",
      "display_name": "Python 3"
    },
    "language_info": {
      "name": "python"
    }
  },
  "cells": [
    {
      "cell_type": "markdown",
      "metadata": {
        "id": "view-in-github",
        "colab_type": "text"
      },
      "source": [
        "<a href=\"https://colab.research.google.com/github/filipafrodrigues/aimodels/blob/main/Sentiment_Analysis.ipynb\" target=\"_parent\"><img src=\"https://colab.research.google.com/assets/colab-badge.svg\" alt=\"Open In Colab\"/></a>"
      ]
    },
    {
      "cell_type": "code",
      "execution_count": null,
      "metadata": {
        "colab": {
          "base_uri": "https://localhost:8080/"
        },
        "id": "UoeKHd4Lh4ez",
        "outputId": "43b2c914-75cb-49e8-82a9-4a1818285489"
      },
      "outputs": [
        {
          "output_type": "stream",
          "name": "stdout",
          "text": [
            "Downloading data from https://storage.googleapis.com/tensorflow/tf-keras-datasets/imdb.npz\n",
            "17464789/17464789 [==============================] - 0s 0us/step\n"
          ]
        }
      ],
      "source": [
        "#import the necessary libraries and downloading a sentiment analysis dataset. I am using here the IMDb movie reviews dataset, which is available in the TensorFlow datasets module.\n",
        "\n",
        "import tensorflow as tf\n",
        "from tensorflow.keras.datasets import imdb\n",
        "\n",
        "# Load the IMDb dataset\n",
        "(train_data, train_labels), (test_data, test_labels) = imdb.load_data(num_words=10000)\n"
      ]
    },
    {
      "cell_type": "code",
      "source": [
        "#The dataset contains movie reviews encoded as sequences of integers.\n",
        "#I need to preprocess the data by converting the integer sequences into a binary matrix representation using one-hot encoding. Additionally, I'll split the training data into training and validation sets.\n",
        "# Preprocess the data\n",
        "max_length = 500  # Maximum sequence length\n",
        "train_data = tf.keras.preprocessing.sequence.pad_sequences(train_data, maxlen=max_length)\n",
        "test_data = tf.keras.preprocessing.sequence.pad_sequences(test_data, maxlen=max_length)\n",
        "\n",
        "# Split the training data into training and validation sets\n",
        "x_val = train_data[:10000]\n",
        "partial_x_train = train_data[10000:]\n",
        "y_val = train_labels[:10000]\n",
        "partial_y_train = train_labels[10000:]\n"
      ],
      "metadata": {
        "id": "ElIUo8_RiOld"
      },
      "execution_count": null,
      "outputs": []
    },
    {
      "cell_type": "code",
      "source": [
        "#Now, I'll build the RNN model using the TensorFlow's Keras API. I'll use an Embedding layer to handle the input sequences, followed by a SimpleRNN\n",
        "#layer and a Dense layer with a sigmoid activation function to produce the final sentiment prediction.\n",
        "model = tf.keras.Sequential([\n",
        "    tf.keras.layers.Embedding(10000, 16),\n",
        "    tf.keras.layers.SimpleRNN(32),\n",
        "    tf.keras.layers.Dense(1, activation='sigmoid')\n",
        "])\n",
        "\n",
        "model.compile(optimizer='rmsprop',\n",
        "              loss='binary_crossentropy',\n",
        "              metrics=['accuracy'])\n"
      ],
      "metadata": {
        "id": "CWtXOW_yiRMJ"
      },
      "execution_count": null,
      "outputs": []
    },
    {
      "cell_type": "code",
      "source": [
        "#Next, I'll train the RNN model using the training data and validate it using the validation set.\n",
        "#I'll specify the number of epochs (iterations over the training data) and the batch size (number of samples per gradient update).\n",
        "num_epochs = 10\n",
        "batch_size = 128\n",
        "\n",
        "history = model.fit(partial_x_train, partial_y_train,\n",
        "                    epochs=num_epochs,\n",
        "                    batch_size=batch_size,\n",
        "                    validation_data=(x_val, y_val))\n"
      ],
      "metadata": {
        "colab": {
          "base_uri": "https://localhost:8080/"
        },
        "id": "uEvDG8nNiUlk",
        "outputId": "1e7d2b64-47a6-4d86-8a64-0cecba83a3bc"
      },
      "execution_count": null,
      "outputs": [
        {
          "output_type": "stream",
          "name": "stdout",
          "text": [
            "Epoch 1/10\n",
            "118/118 [==============================] - 21s 177ms/step - loss: 0.1471 - accuracy: 0.9479 - val_loss: 0.3962 - val_accuracy: 0.8560\n",
            "Epoch 2/10\n",
            "118/118 [==============================] - 23s 198ms/step - loss: 0.1027 - accuracy: 0.9665 - val_loss: 0.5033 - val_accuracy: 0.8045\n",
            "Epoch 3/10\n",
            "118/118 [==============================] - 22s 189ms/step - loss: 0.0705 - accuracy: 0.9787 - val_loss: 0.4948 - val_accuracy: 0.8294\n",
            "Epoch 4/10\n",
            "118/118 [==============================] - 20s 169ms/step - loss: 0.0507 - accuracy: 0.9849 - val_loss: 0.6394 - val_accuracy: 0.7811\n",
            "Epoch 5/10\n",
            "118/118 [==============================] - 21s 176ms/step - loss: 0.0822 - accuracy: 0.9707 - val_loss: 0.5875 - val_accuracy: 0.8286\n",
            "Epoch 6/10\n",
            "118/118 [==============================] - 20s 174ms/step - loss: 0.0499 - accuracy: 0.9839 - val_loss: 0.6264 - val_accuracy: 0.8202\n",
            "Epoch 7/10\n",
            "118/118 [==============================] - 21s 173ms/step - loss: 0.0255 - accuracy: 0.9933 - val_loss: 0.6316 - val_accuracy: 0.8264\n",
            "Epoch 8/10\n",
            "118/118 [==============================] - 21s 182ms/step - loss: 0.0147 - accuracy: 0.9959 - val_loss: 0.9380 - val_accuracy: 0.7228\n",
            "Epoch 9/10\n",
            "118/118 [==============================] - 20s 169ms/step - loss: 0.0808 - accuracy: 0.9754 - val_loss: 0.7369 - val_accuracy: 0.8194\n",
            "Epoch 10/10\n",
            "118/118 [==============================] - 21s 182ms/step - loss: 0.0123 - accuracy: 0.9969 - val_loss: 0.9892 - val_accuracy: 0.7680\n"
          ]
        }
      ]
    },
    {
      "cell_type": "code",
      "source": [
        "#I'll evaluate the trained model on the test set and see how well it performs for sentiment analysis.\n",
        "results = model.evaluate(test_data, test_labels)\n",
        "print(\"Test Loss:\", results[0])\n",
        "print(\"Test Accuracy:\", results[1])\n"
      ],
      "metadata": {
        "colab": {
          "base_uri": "https://localhost:8080/"
        },
        "id": "5tX61NYAj3ik",
        "outputId": "a9fc7886-3a10-4d93-818c-a7b5f35ed859"
      },
      "execution_count": null,
      "outputs": [
        {
          "output_type": "stream",
          "name": "stdout",
          "text": [
            "782/782 [==============================] - 22s 28ms/step - loss: 0.9796 - accuracy: 0.7672\n",
            "Test Loss: 0.9795611500740051\n",
            "Test Accuracy: 0.7671599984169006\n"
          ]
        }
      ]
    }
  ]
}